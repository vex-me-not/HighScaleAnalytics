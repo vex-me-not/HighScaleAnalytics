{
 "cells": [
  {
   "cell_type": "code",
   "execution_count": 4,
   "metadata": {},
   "outputs": [
    {
     "name": "stdout",
     "output_type": "stream",
     "text": [
      "Total time taken: 1559.7498 seconds\n"
     ]
    }
   ],
   "source": [
    "import pandas as pd\n",
    "import numpy as np\n",
    "from datasketch import MinHash, MinHashLSH\n",
    "from itertools import zip_longest\n",
    "from time import time\n",
    "from collections import Counter\n",
    "from sklearn.model_selection import train_test_split\n",
    "import re\n",
    "from sklearn.feature_extraction.text import TfidfVectorizer, CountVectorizer\n",
    "from scipy.sparse import csr_matrix\n",
    "\n",
    "import numpy as np\n",
    "import pandas as pd\n",
    "import time\n",
    "\n",
    "def euclidean_distance(x, y):\n",
    "    \"\"\"Compute the squared Euclidean distance between two points.\"\"\"\n",
    "    return (x - y) ** 2\n",
    "\n",
    "def dtw_distance(seq_a, seq_b):\n",
    "    \"\"\"Compute DTW distance using Euclidean distance as cost function.\"\"\"\n",
    "    n, m = len(seq_a), len(seq_b)\n",
    "    dtw_matrix = np.full((n + 1, m + 1), np.inf)\n",
    "    dtw_matrix[0, 0] = 0\n",
    "\n",
    "    # Compute DTW cost matrix\n",
    "    for i in range(1, n + 1):\n",
    "        for j in range(1, m + 1):\n",
    "            cost = euclidean_distance(seq_a[i - 1], seq_b[j - 1])\n",
    "            dtw_matrix[i, j] = cost + min(\n",
    "                dtw_matrix[i - 1, j],    # Insertion\n",
    "                dtw_matrix[i, j - 1],    # Deletion\n",
    "                dtw_matrix[i - 1, j - 1] # Match\n",
    "            )\n",
    "\n",
    "    return dtw_matrix[n, m]  # Return the final DTW distance\n",
    "\n",
    "# Load dataset\n",
    "data = pd.read_csv(\"dtw_test.csv\")  # Replace with actual filename\n",
    "\n",
    "# Process each pair of time series\n",
    "results = []\n",
    "start_time = time.time()\n",
    "\n",
    "for idx, row in data.iterrows():\n",
    "    seq_a = np.array(eval(row['series_a']))  # Convert string to list\n",
    "    seq_b = np.array(eval(row['series_b']))\n",
    "    distance = dtw_distance(seq_a, seq_b)\n",
    "    results.append([idx, distance])  # Ensure ID starts at 1\n",
    "\n",
    "# Measure execution time\n",
    "end_time = time.time()\n",
    "total_time = end_time - start_time\n",
    "\n",
    "# Save results to CSV\n",
    "df_results = pd.DataFrame(results, columns=[\"id\", \"DTW distance\"])\n",
    "df_results.to_csv(\"dtw.csv\", index=False)\n",
    "\n",
    "print(f\"Total time taken: {total_time:.4f} seconds\")\n"
   ]
  }
 ],
 "metadata": {
  "kernelspec": {
   "display_name": "base",
   "language": "python",
   "name": "python3"
  },
  "language_info": {
   "codemirror_mode": {
    "name": "ipython",
    "version": 3
   },
   "file_extension": ".py",
   "mimetype": "text/x-python",
   "name": "python",
   "nbconvert_exporter": "python",
   "pygments_lexer": "ipython3",
   "version": "3.9.13"
  }
 },
 "nbformat": 4,
 "nbformat_minor": 2
}
