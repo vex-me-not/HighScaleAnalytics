{
 "cells": [
  {
   "cell_type": "code",
   "execution_count": null,
   "metadata": {},
   "outputs": [
    {
     "name": "stdout",
     "output_type": "stream",
     "text": [
      "This is the start of question 3\n",
      "Total time taken: 741.3972 seconds\n"
     ]
    }
   ],
   "source": [
    "import numpy as np\n",
    "import pandas as pd\n",
    "import time\n",
    "\n",
    "# Compute the Euclidean distance between two points.\n",
    "def euclidean_distance(x, y):\n",
    "\n",
    "    return abs(x - y)\n",
    "\n",
    "# Compute DTW distance using Euclidean distance as cost function.\n",
    "def dtw_distance(seq_a, seq_b):\n",
    "\n",
    "    n, m = len(seq_a), len(seq_b)\n",
    "    # we create the dtw_matrix, initializing every entry to infinity (we are looking for the min)\n",
    "    dtw_matrix = np.full((n, m), np.inf)\n",
    "    # the first cell has as cost only the euclidean_distance of the respective first values in the two time series\n",
    "    dtw_matrix[0, 0] = euclidean_distance(seq_a[0],seq_b[0])\n",
    "\n",
    "    # When j==0, aka the first column\n",
    "    for i in range(1,n):\n",
    "        cost=euclidean_distance(seq_a[i],seq_b[0])\n",
    "        dtw_matrix[i,0]= cost + dtw_matrix[i - 1, 0]\n",
    "\n",
    "    # When i==0, aka the first row\n",
    "    for j in range(1,m):\n",
    "        cost=euclidean_distance(seq_a[0],seq_b[j])\n",
    "        dtw_matrix[0,j]= cost + dtw_matrix[0, j - 1]   \n",
    "\n",
    "    # Compute DTW cost matrix based on the given formula\n",
    "    for i in range(1, n):\n",
    "        for j in range(1, m):\n",
    "            cost = euclidean_distance(seq_a[i], seq_b[j]) # Base cost\n",
    "            dtw_matrix[i, j] = cost + min(\n",
    "                dtw_matrix[i - 1, j],    # Insertion\n",
    "                dtw_matrix[i, j - 1],    # Deletion\n",
    "                dtw_matrix[i - 1, j - 1] # Match\n",
    "            )\n",
    "\n",
    "    return dtw_matrix[n-1, m-1]  # Return the final DTW distance\n",
    "\n",
    "print(\"This is the start of question 3\")\n",
    "# Load dataset\n",
    "dtw_data = pd.read_csv(\"dtw_test.csv\")  # Replace with actual filename\n",
    "\n",
    "# Process each pair of time series\n",
    "results = []\n",
    "start_time = time.time()\n",
    "\n",
    "for idx, row in dtw_data.iterrows():\n",
    "    seq_a = np.array(eval(row['series_a']))  # Convert string to list\n",
    "    seq_b = np.array(eval(row['series_b']))\n",
    "    distance = dtw_distance(seq_a, seq_b) # Compute the dtw_distance for each sequence\n",
    "    results.append([idx, distance]) \n",
    "\n",
    "# Measure execution time\n",
    "end_time = time.time()\n",
    "total_time = end_time - start_time\n",
    "\n",
    "# Save results to CSV\n",
    "df_results = pd.DataFrame(results, columns=[\"id\", \"DTW distance\"])\n",
    "df_results.to_csv(\"dtw.csv\", index=False)\n",
    "\n",
    "print(f\"Total time taken: {total_time:.4f} seconds\")\n"
   ]
  }
 ],
 "metadata": {
  "kernelspec": {
   "display_name": "bio",
   "language": "python",
   "name": "python3"
  },
  "language_info": {
   "codemirror_mode": {
    "name": "ipython",
    "version": 3
   },
   "file_extension": ".py",
   "mimetype": "text/x-python",
   "name": "python",
   "nbconvert_exporter": "python",
   "pygments_lexer": "ipython3",
   "version": "3.12.7"
  }
 },
 "nbformat": 4,
 "nbformat_minor": 2
}
