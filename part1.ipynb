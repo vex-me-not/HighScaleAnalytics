{
 "cells": [
  {
   "cell_type": "code",
   "execution_count": 7,
   "metadata": {},
   "outputs": [],
   "source": [
    "import numpy as np\n",
    "import pandas as pd\n",
    "\n",
    "from sklearn.feature_extraction.text import CountVectorizer, TfidfVectorizer, HashingVectorizer\n",
    "from sklearn.model_selection import cross_val_score\n",
    "from sklearn.svm import SVC, LinearSVC\n",
    "from sklearn.ensemble import RandomForestClassifier\n",
    "from sklearn.metrics import accuracy_score\n",
    "from sklearn.model_selection import train_test_split\n",
    "from datasketch import MinHash, MinHashLSH\n",
    "\n",
    "from time import time # needed to measure the elapsed time\n",
    "from itertools import zip_longest\n",
    "from collections import Counter"
   ]
  },
  {
   "cell_type": "code",
   "execution_count": 8,
   "metadata": {},
   "outputs": [
    {
     "name": "stdout",
     "output_type": "stream",
     "text": [
      "This is the answer to part 1 of the exercise\n",
      "\n"
     ]
    }
   ],
   "source": [
    "print(\"This is the answer to part 1 of the exercise\\n\")\n",
    "\n",
    "train_ds_comma=pd.read_csv(\"train.csv\")\n",
    "# train_ds_line=pd.read_csv(\"train.csv\",sep='|')\n",
    "test_ds_comma=pd.read_csv(\"test_without_labels.csv\")\n",
    "# test_ds_line=pd.read_csv(\"test_without_labels.csv\",sep='|')\n",
    "\n",
    "fraction=0.1\n",
    "\n",
    "# Split the dataset into a smaller training set and a smaller test set\n",
    "train_subset, _ = train_test_split(\n",
    "    train_ds_comma, \n",
    "    train_size=fraction, \n",
    "    stratify=train_ds_comma['Label'],  # Ensure stratified sampling\n",
    "    random_state=42\n",
    ")\n",
    "\n",
    "train_subset.to_csv('train_subset.csv', index=False)\n",
    "\n",
    "\n",
    "test_subset=test_ds_comma.sample(frac=fraction,random_state=42)\n",
    "test_subset.to_csv('test_subset.csv',index=False)\n",
    "\n",
    "train_subset=pd.read_csv('train_subset.csv')\n",
    "test_subset=pd.read_csv('test_subset.csv')"
   ]
  },
  {
   "cell_type": "code",
   "execution_count": null,
   "metadata": {},
   "outputs": [
    {
     "name": "stdout",
     "output_type": "stream",
     "text": [
      "\n",
      "Testing: Random Forest\n",
      "\n",
      "Testing: SVM\n",
      "5-Fold Cross-Validation Results: {'Random Forest': np.float64(0.8736925558183557), 'SVM': np.float64(0.949996438190601)}\n"
     ]
    }
   ],
   "source": [
    "\n",
    "# vctrz=CountVectorizer()\n",
    "vctrz= TfidfVectorizer()\n",
    "# vctrz= HashingVectorizer()\n",
    "x_train=vctrz.fit_transform(train_subset['Content'])\n",
    "y_train=train_subset['Label']\n",
    "x_test=vctrz.transform(test_subset['Content'])\n",
    "\n",
    "classifiers={'Random Forest': RandomForestClassifier(),\n",
    "            #  'SVM': SVC(),\n",
    "             'SVM':LinearSVC()}\n",
    "results={}\n",
    "\n",
    "for name,clfr in classifiers.items():\n",
    "    print(\"\\nTesting:\",name)\n",
    "    scores=cross_val_score(clfr,x_train,y_train,cv=5,scoring='accuracy')\n",
    "    results[name]=scores.mean()\n",
    "\n",
    "print(\"5-Fold Cross-Validation Results:\", results)\n",
    "\n"
   ]
  },
  {
   "cell_type": "code",
   "execution_count": 13,
   "metadata": {},
   "outputs": [
    {
     "name": "stdout",
     "output_type": "stream",
     "text": [
      "{'SVM': np.float64(0.949996438190601), 'Random Forest': np.float64(0.8736925558183557)}\n"
     ]
    }
   ],
   "source": [
    "sorted_results=dict(sorted(results.items(), key=lambda item: item[1],reverse=True))\n",
    "print(sorted_results)\n",
    "\n",
    "best_fit_name= list(sorted_results.keys())[0]\n",
    "\n",
    "best_fit_method=classifiers[best_fit_name]\n",
    "best_fit_method.fit(x_train,y_train)\n",
    "\n",
    "test_subset['Predicted'] = best_fit_method.predict(x_test)\n",
    "test_subset[['Id', 'Predicted']].to_csv('testSet_categories.csv', index=False)"
   ]
  }
 ],
 "metadata": {
  "kernelspec": {
   "display_name": "bio",
   "language": "python",
   "name": "python3"
  },
  "language_info": {
   "codemirror_mode": {
    "name": "ipython",
    "version": 3
   },
   "file_extension": ".py",
   "mimetype": "text/x-python",
   "name": "python",
   "nbconvert_exporter": "python",
   "pygments_lexer": "ipython3",
   "version": "3.12.7"
  }
 },
 "nbformat": 4,
 "nbformat_minor": 2
}
