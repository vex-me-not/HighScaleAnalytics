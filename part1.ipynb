{
 "cells": [
  {
   "cell_type": "code",
   "execution_count": 1,
   "metadata": {},
   "outputs": [],
   "source": [
    "import numpy as np\n",
    "import pandas as pd\n",
    "\n",
    "from sklearn.feature_extraction.text import CountVectorizer\n",
    "from sklearn.model_selection import cross_val_score\n",
    "from sklearn.svm import SVC\n",
    "from sklearn.ensemble import RandomForestClassifier\n",
    "from sklearn.metrics import accuracy_score\n",
    "from datasketch import MinHash, MinHashLSH\n",
    "\n",
    "from time import time # needed to measure the elapsed time\n",
    "from itertools import zip_longest"
   ]
  },
  {
   "cell_type": "code",
   "execution_count": 7,
   "metadata": {},
   "outputs": [
    {
     "name": "stdout",
     "output_type": "stream",
     "text": [
      "This is the answer to part 1 of the exercise\n",
      "\n"
     ]
    }
   ],
   "source": [
    "print(\"This is the answer to part 1 of the exercise\\n\")\n",
    "\n",
    "train_ds_comma=pd.read_csv(\"train.csv\")\n",
    "# train_ds_line=pd.read_csv(\"train.csv\",sep='|')\n",
    "test_ds_comma=pd.read_csv(\"test_without_labels.csv\")\n",
    "# test_ds_line=pd.read_csv(\"test_without_labels.csv\",sep='|')\n"
   ]
  },
  {
   "cell_type": "code",
   "execution_count": 8,
   "metadata": {},
   "outputs": [
    {
     "name": "stdout",
     "output_type": "stream",
     "text": [
      "0         Entertainment\n",
      "1         Entertainment\n",
      "2            Technology\n",
      "3            Technology\n",
      "4              Business\n",
      "              ...      \n",
      "111790       Technology\n",
      "111791           Health\n",
      "111792           Health\n",
      "111793    Entertainment\n",
      "111794    Entertainment\n",
      "Name: Label, Length: 111795, dtype: object\n",
      "11179\n",
      "           Id                                              Title  \\\n",
      "0      262120  Tracy Morgan upgraded to fair condition after ...   \n",
      "1      175132  Smartphones Weigh on Samsung Electronics as Gu...   \n",
      "2      218739  FBI denies fumbling testimony on 'X-Men' direc...   \n",
      "3      253483  Bachelorette 2014 Spoilers: Week 3 Recap ??? E...   \n",
      "4      224109  Barack Obama honours Frankie Knuckles in lette...   \n",
      "...       ...                                                ...   \n",
      "47907   50348  BMW, Tesla meet to discuss standardizing elect...   \n",
      "47908  255044  Harrison Ford has been filming the seventh Sta...   \n",
      "47909   66502  It's Games, Games, Games As Microsoft Plans To...   \n",
      "47910   10319              App Detail » Microsoft Excel for iPad   \n",
      "47911   48751  Starbucks Makes Itself More Addictive With Wir...   \n",
      "\n",
      "                                                 Content  \n",
      "0       actor and comedian tracy morgan has been upgr...  \n",
      "1      samsung electronics co ltd on tuesday issued u...  \n",
      "2       michael f. egan iii said in a press conferenc...  \n",
      "3       i am having mixed emotions for what is about ...  \n",
      "4       u.s. president barack obama has paid a specia...  \n",
      "...                                                  ...  \n",
      "47907  june 16, 2014 by edward taylor reutersan emplo...  \n",
      "47908  he may have helped save the galaxy from the ev...  \n",
      "47909   less than three months after microsoft had a ...  \n",
      "47910   app description *** excel is ready for ipad p...  \n",
      "47911   soon, you'll be able to recharge at starbucks...  \n",
      "\n",
      "[47912 rows x 3 columns]\n"
     ]
    }
   ],
   "source": [
    "print(train_ds_comma[\"Label\"])\n",
    "total_rows=len(train_ds_comma)\n",
    "print((int) (total_rows*0.1)) # ten percent of the data  set\n",
    "\n",
    "print(test_ds_comma)"
   ]
  }
 ],
 "metadata": {
  "kernelspec": {
   "display_name": "bio",
   "language": "python",
   "name": "python3"
  },
  "language_info": {
   "codemirror_mode": {
    "name": "ipython",
    "version": 3
   },
   "file_extension": ".py",
   "mimetype": "text/x-python",
   "name": "python",
   "nbconvert_exporter": "python",
   "pygments_lexer": "ipython3",
   "version": "3.12.7"
  }
 },
 "nbformat": 4,
 "nbformat_minor": 2
}
