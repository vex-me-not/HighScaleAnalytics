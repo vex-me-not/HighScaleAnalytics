{
 "cells": [
  {
   "cell_type": "code",
   "execution_count": 34,
   "metadata": {},
   "outputs": [],
   "source": [
    "import numpy as np\n",
    "import pandas as pd\n",
    "\n",
    "from sklearn.feature_extraction.text import CountVectorizer\n",
    "from sklearn.model_selection import cross_val_score\n",
    "from sklearn.svm import SVC\n",
    "from sklearn.ensemble import RandomForestClassifier\n",
    "from sklearn.metrics import accuracy_score\n",
    "from datasketch import MinHash, MinHashLSH\n",
    "\n",
    "from time import time # needed to measure the elapsed time\n",
    "from itertools import zip_longest\n",
    "from collections import Counter"
   ]
  },
  {
   "cell_type": "code",
   "execution_count": 35,
   "metadata": {},
   "outputs": [
    {
     "name": "stdout",
     "output_type": "stream",
     "text": [
      "This is the answer to part 1 of the exercise\n",
      "\n"
     ]
    }
   ],
   "source": [
    "print(\"This is the answer to part 1 of the exercise\\n\")\n",
    "\n",
    "train_ds_comma=pd.read_csv(\"train.csv\")\n",
    "# train_ds_line=pd.read_csv(\"train.csv\",sep='|')\n",
    "test_ds_comma=pd.read_csv(\"test_without_labels.csv\")\n",
    "# test_ds_line=pd.read_csv(\"test_without_labels.csv\",sep='|')\n"
   ]
  },
  {
   "cell_type": "code",
   "execution_count": 36,
   "metadata": {},
   "outputs": [
    {
     "name": "stdout",
     "output_type": "stream",
     "text": [
      "5-Fold Cross-Validation Results: {'Random Forest': np.float64(0.8800423815298171), 'SVM': np.float64(0.8783431583244287)}\n"
     ]
    }
   ],
   "source": [
    "\n",
    "total_rows_train=len(train_ds_comma)\n",
    "part_of_set_train=(int) (total_rows_train*0.1)\n",
    "x_train=train_ds_comma[0:part_of_set_train][\"Content\"]\n",
    "y_train=train_ds_comma[0:part_of_set_train][\"Label\"]\n",
    "# print(part_of_set_train) # ten percent of the data  set\n",
    "# print(x_train)\n",
    "\n",
    "total_rows_test=len(test_ds_comma)\n",
    "part_of_set_test=(int) (total_rows_test*0.1)\n",
    "x_test=test_ds_comma[0:part_of_set_test][\"Content\"]\n",
    "# print(part_of_set_test)\n",
    "# print(x_test)\n",
    "\n",
    "vctrz=CountVectorizer()\n",
    "x_train=vctrz.fit_transform(x_train)\n",
    "x_test=vctrz.transform(x_test)\n",
    "\n",
    "classifiers={'Random Forest': RandomForestClassifier(),\n",
    "             'SVM': SVC()}\n",
    "results={}\n",
    "\n",
    "for name,clfr in classifiers.items():\n",
    "    scores=cross_val_score(clfr,x_train,y_train,cv=5,scoring='accuracy')\n",
    "    results[name]=scores.mean()\n",
    "\n",
    "print(\"5-Fold Cross-Validation Results:\", results)\n",
    "\n"
   ]
  },
  {
   "cell_type": "code",
   "execution_count": 41,
   "metadata": {},
   "outputs": [
    {
     "name": "stdout",
     "output_type": "stream",
     "text": [
      "{'Random Forest': np.float64(0.8800423815298171), 'SVM': np.float64(0.8783431583244287)}\n"
     ]
    },
    {
     "name": "stderr",
     "output_type": "stream",
     "text": [
      "C:\\Users\\User\\AppData\\Local\\Temp\\ipykernel_5060\\778778343.py:10: FutureWarning: ChainedAssignmentError: behaviour will change in pandas 3.0!\n",
      "You are setting values through chained assignment. Currently this works in certain cases, but when using Copy-on-Write (which will become the default behaviour in pandas 3.0) this will never work to update the original DataFrame or Series, because the intermediate object on which we are setting values will behave as a copy.\n",
      "A typical example is when you are setting values in a column of a DataFrame, like:\n",
      "\n",
      "df[\"col\"][row_indexer] = value\n",
      "\n",
      "Use `df.loc[row_indexer, \"col\"] = values` instead, to perform the assignment in a single step and ensure this keeps updating the original `df`.\n",
      "\n",
      "See the caveats in the documentation: https://pandas.pydata.org/pandas-docs/stable/user_guide/indexing.html#returning-a-view-versus-a-copy\n",
      "\n",
      "  test_ds_comma[0:part_of_set_test]['Predicted'] = best_fit_method.predict(x_test)\n",
      "C:\\Users\\User\\AppData\\Local\\Temp\\ipykernel_5060\\778778343.py:10: SettingWithCopyWarning: \n",
      "A value is trying to be set on a copy of a slice from a DataFrame.\n",
      "Try using .loc[row_indexer,col_indexer] = value instead\n",
      "\n",
      "See the caveats in the documentation: https://pandas.pydata.org/pandas-docs/stable/user_guide/indexing.html#returning-a-view-versus-a-copy\n",
      "  test_ds_comma[0:part_of_set_test]['Predicted'] = best_fit_method.predict(x_test)\n"
     ]
    }
   ],
   "source": [
    "sorted_results=dict(sorted(results.items(), key=lambda item: item[1],reverse=True))\n",
    "print(sorted_results)\n",
    "\n",
    "best_fit_name= list(sorted_results.keys())[0]\n",
    "\n",
    "best_fit_method=classifiers[best_fit_name]\n",
    "best_fit_method.fit(x_train,y_train)\n",
    "\n",
    "\n",
    "test_ds_comma[0:part_of_set_test]['Predicted'] = best_fit_method.predict(x_test)\n",
    "# test_ds_comma[['Id', 'Predicted']].to_csv('testSet_categories.csv', index=False)"
   ]
  }
 ],
 "metadata": {
  "kernelspec": {
   "display_name": "bio",
   "language": "python",
   "name": "python3"
  },
  "language_info": {
   "codemirror_mode": {
    "name": "ipython",
    "version": 3
   },
   "file_extension": ".py",
   "mimetype": "text/x-python",
   "name": "python",
   "nbconvert_exporter": "python",
   "pygments_lexer": "ipython3",
   "version": "3.12.7"
  }
 },
 "nbformat": 4,
 "nbformat_minor": 2
}
