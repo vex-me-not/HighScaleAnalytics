{
 "cells": [
  {
   "cell_type": "code",
   "execution_count": 1,
   "metadata": {},
   "outputs": [],
   "source": [
    "import numpy as np\n",
    "import pandas as pd"
   ]
  },
  {
   "cell_type": "code",
   "execution_count": 2,
   "metadata": {},
   "outputs": [
    {
     "name": "stdout",
     "output_type": "stream",
     "text": [
      "This is the answer to part 1 of the exercise\n",
      "\n"
     ]
    }
   ],
   "source": [
    "print(\"This is the answer to part 1 of the exercise\\n\")\n",
    "\n",
    "train_ds_comma=pd.read_csv(\"train.csv\")\n",
    "# train_ds_line=pd.read_csv(\"train.csv\",sep='|')\n"
   ]
  },
  {
   "cell_type": "code",
   "execution_count": 5,
   "metadata": {},
   "outputs": [
    {
     "name": "stdout",
     "output_type": "stream",
     "text": [
      "       Id                                              Title  \\\n",
      "0  227464  Netflix is coming to cable boxes, and Amazon i...   \n",
      "1  244074  Pharrell, Iranian President React to Tehran 'H...   \n",
      "2   60707                    Wildlife service seeks comments   \n",
      "3   27883  Facebook teams up with Storyful to launch 'FB ...   \n",
      "4  169596           Caesars plans US$880 mln New York casino   \n",
      "5   48507  TweetDeck Briefly Shuts Down in Response to Se...   \n",
      "6  220838          OMG: Miley Cyrus Postpones 'Bangerz' Tour   \n",
      "7   56638  Have a Nexus 5 or new Nexus 7? You can get And...   \n",
      "8  282792  Legendary blues guitarist Johnny Winter dies i...   \n",
      "9  288645  Kardashian Siblings Slammed by Critics for Tex...   \n",
      "\n",
      "                                             Content          Label  \n",
      "0   if you subscribe to one of three rinky-dink (...  Entertainment  \n",
      "1   pharrell, iranian president react to tehran '...  Entertainment  \n",
      "2   the u.s. fish and wildlife service has reopen...     Technology  \n",
      "3   the very nature of social media means it is o...     Technology  \n",
      "4   caesars plans us$880 mln new york casino jul ...       Business  \n",
      "5  the service was shut down for an hour as tweet...     Technology  \n",
      "6   miley cyrus has been sick in the hospital all...  Entertainment  \n",
      "7  new delhi: unlike in the past when google used...     Technology  \n",
      "8   legendary blues guitarist johnny winter dies ...  Entertainment  \n",
      "9   get the most popular beauty world news storie...  Entertainment  \n",
      "11179\n"
     ]
    }
   ],
   "source": [
    "print(train_ds_comma[0:10])\n",
    "total_rows=len(train_ds_comma)\n",
    "print((int) (total_rows*0.1)) # ten percent of the data  set\n",
    "# print(train_ds_line)"
   ]
  }
 ],
 "metadata": {
  "kernelspec": {
   "display_name": "bio",
   "language": "python",
   "name": "python3"
  },
  "language_info": {
   "codemirror_mode": {
    "name": "ipython",
    "version": 3
   },
   "file_extension": ".py",
   "mimetype": "text/x-python",
   "name": "python",
   "nbconvert_exporter": "python",
   "pygments_lexer": "ipython3",
   "version": "3.12.7"
  }
 },
 "nbformat": 4,
 "nbformat_minor": 2
}
